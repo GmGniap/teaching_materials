{
 "cells": [
  {
   "cell_type": "code",
   "execution_count": null,
   "metadata": {},
   "outputs": [],
   "source": [
    "name1 = \" Mg Mg\"\n",
    "name2 = \"Ma Ma \""
   ]
  },
  {
   "cell_type": "markdown",
   "metadata": {},
   "source": [
    "**Exercise 1 : To do** \n",
    "\n",
    "Make a sentence by using `name1` & `name2` variable. Be careful unnecessary space in string variables.\n",
    "- \"Mg Mg is younger than Ma Ma.\"\n",
    "- \"Ma Ma is Mg Mg's elder sister.\"\n",
    "- \"Mg Mg & Ma Ma go to school together.\""
   ]
  },
  {
   "cell_type": "code",
   "execution_count": null,
   "metadata": {},
   "outputs": [],
   "source": [
    "## exercise 1 : solution write here!"
   ]
  },
  {
   "cell_type": "code",
   "execution_count": null,
   "metadata": {},
   "outputs": [],
   "source": [
    "sentence1 = \" I like chocolate ice cream better than vanilla ice cream.\""
   ]
  },
  {
   "cell_type": "markdown",
   "metadata": {},
   "source": [
    "**Exercise 2 : To do** \n",
    "\n",
    "Extract specific word from `sentence1`, assign into variables. Hint : Use split & index & combine the string variables.\n",
    "- chocolate ice cream\n",
    "- vanilla ice cream"
   ]
  },
  {
   "cell_type": "code",
   "execution_count": null,
   "metadata": {},
   "outputs": [],
   "source": [
    "## exercise 2 : solution write here!"
   ]
  },
  {
   "cell_type": "code",
   "execution_count": null,
   "metadata": {},
   "outputs": [],
   "source": [
    "price_chocolate = 500\n",
    "price_vanilla = 600"
   ]
  },
  {
   "cell_type": "markdown",
   "metadata": {},
   "source": [
    "**Exercise 3 : To do**\n",
    "\n",
    "By using above price_ variables and also the variables (that extracted from `sentence1`, make the below sentences. Hint : Use % Method , .format() and f-strings for each sentence.\n",
    "- The chocolate ice cream is 500 kyats.\n",
    "- The vanilla ice cream is 700 kyats now , not 600 kyats.\n",
    "- The total price for both is 1100 kyats."
   ]
  },
  {
   "cell_type": "code",
   "execution_count": null,
   "metadata": {},
   "outputs": [],
   "source": [
    "## exercise 3 : solution write here!"
   ]
  },
  {
   "cell_type": "code",
   "execution_count": null,
   "metadata": {},
   "outputs": [],
   "source": [
    "## Ohhh sorry , because of the coup , all the prices go up.\n",
    "## Change the price for chocolate to 800 kyats and vanilla to 900 kyats.\n",
    "## Re-run the above print statements with new prices."
   ]
  },
  {
   "cell_type": "code",
   "execution_count": null,
   "metadata": {},
   "outputs": [],
   "source": [
    "my_name = \" ko Paing      \""
   ]
  },
  {
   "cell_type": "markdown",
   "metadata": {},
   "source": [
    "**Exercise 4: To Do**\n",
    "\n",
    "By using string built-in methods , change the first letter of `my_name` to capital letter.\n",
    "Clean the space before and after the name."
   ]
  },
  {
   "cell_type": "code",
   "execution_count": null,
   "metadata": {},
   "outputs": [],
   "source": [
    "## exercise 4 : solution write here!"
   ]
  }
 ],
 "metadata": {
  "interpreter": {
   "hash": "43f9f978e86097f86422ad3a1a736eb79d02874e31223e758cffd1f02c507dc9"
  },
  "kernelspec": {
   "display_name": "Python 3.10.8 ('environment': venv)",
   "language": "python",
   "name": "python3"
  },
  "language_info": {
   "name": "python",
   "version": "3.10.8"
  },
  "orig_nbformat": 4
 },
 "nbformat": 4,
 "nbformat_minor": 2
}
