{
 "cells": [
  {
   "cell_type": "code",
   "execution_count": 7,
   "metadata": {},
   "outputs": [],
   "source": [
    "name1 = \" Mg Mg\"\n",
    "name2 = \"Ma Ma \""
   ]
  },
  {
   "cell_type": "code",
   "execution_count": 8,
   "metadata": {},
   "outputs": [
    {
     "name": "stdout",
     "output_type": "stream",
     "text": [
      "Mg Mg is younger than Ma Ma.\n",
      "Ma Ma is Mg Mg's elder sister.\n",
      "Mg Mg & Ma Ma go to school together.\n"
     ]
    }
   ],
   "source": [
    "name1.strip()\n",
    "name2.strip()\n",
    "print(\"%s is younger than %s.\" %(name1.strip(), name2.strip()))\n",
    "print('{} is {}\\'s elder sister.'.format(name2.strip(), name1.strip()))\n",
    "print(f'{name1.strip()} & {name2.strip()} go to school together.')\n"
   ]
  },
  {
   "cell_type": "code",
   "execution_count": null,
   "metadata": {},
   "outputs": [
    {
     "ename": "",
     "evalue": "",
     "output_type": "error",
     "traceback": [
      "\u001b[1;31mFailed to start the Kernel. \n",
      "Canceled. \n",
      "View Jupyter <a href='command:jupyter.viewOutput'>log</a> for further details."
     ]
    }
   ],
   "source": [
    "sentence1 = \" I like chocolate ice cream better than vanilla ice cream.\""
   ]
  },
  {
   "cell_type": "code",
   "execution_count": 10,
   "metadata": {},
   "outputs": [
    {
     "name": "stdout",
     "output_type": "stream",
     "text": [
      "chocolate ice cream\n",
      "vanilla ice cream\n"
     ]
    }
   ],
   "source": [
    "from ntpath import join\n",
    "\n",
    "\n",
    "chocolate=sentence1.split()[2:][:3]\n",
    "vanilla=sentence1.split()[7:][:3]\n",
    "print(\" \".join(chocolate))\n",
    "print(\" \".join(vanilla).strip(\".\"))\n"
   ]
  },
  {
   "cell_type": "code",
   "execution_count": 11,
   "metadata": {},
   "outputs": [],
   "source": [
    "price_chocolate = 800\n",
    "price_vanilla = 900"
   ]
  },
  {
   "cell_type": "code",
   "execution_count": 27,
   "metadata": {},
   "outputs": [
    {
     "name": "stdout",
     "output_type": "stream",
     "text": [
      "The chocolate ice cream is 800 kyats.\n",
      "The vanilla ice cream is 700 kyats now , not 900 kyats.\n",
      "The total price for both is 1700 kyats.\n"
     ]
    }
   ],
   "source": [
    "print('The %s is %s kyats.' %(\" \".join(chocolate) , price_chocolate))\n",
    "print('The {} is 700 kyats now , not {} kyats.'.format(' '.join(vanilla).strip('.'), price_vanilla))\n",
    "print(f'The total price for both is {price_chocolate + price_vanilla} kyats.')"
   ]
  },
  {
   "cell_type": "code",
   "execution_count": 29,
   "metadata": {},
   "outputs": [
    {
     "name": "stdout",
     "output_type": "stream",
     "text": [
      " Ko Paing      \n"
     ]
    }
   ],
   "source": [
    "from turtle import title\n",
    "\n",
    "\n",
    "my_name = \" ko Paing      \"\n",
    "my_name.strip()\n",
    "print(my_name.title())"
   ]
  },
  {
   "cell_type": "code",
   "execution_count": null,
   "metadata": {},
   "outputs": [],
   "source": [
    "print('The choclate ice cream is %s kyats.' %(price_chocolate))\n",
    "print('The vanilla ice cream is 700 kyats now , not {} kyats.'.format(price_vanilla))\n",
    "print(f'The total price for both is {price_chocolate + price_vanilla} kyats.')"
   ]
  }
 ],
 "metadata": {
  "kernelspec": {
   "display_name": "Python 3.10.8 64-bit",
   "language": "python",
   "name": "python3"
  },
  "language_info": {
   "codemirror_mode": {
    "name": "ipython",
    "version": 3
   },
   "file_extension": ".py",
   "mimetype": "text/x-python",
   "name": "python",
   "nbconvert_exporter": "python",
   "pygments_lexer": "ipython3",
   "version": "3.10.8"
  },
  "orig_nbformat": 4,
  "vscode": {
   "interpreter": {
    "hash": "afb734500600fd355917ca529030176ea0ca205570884b88f2f6f7d791fd3fbe"
   }
  }
 },
 "nbformat": 4,
 "nbformat_minor": 2
}
