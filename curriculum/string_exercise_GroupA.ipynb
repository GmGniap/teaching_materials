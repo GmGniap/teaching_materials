{
  "cells": [
    {
      "cell_type": "code",
      "execution_count": null,
      "metadata": {
        "id": "Gi83oscPDsJJ"
      },
      "outputs": [],
      "source": [
        "name1 = \" Mg Mg\"\n",
        "name2 = \"Ma Ma \""
      ]
    },
    {
      "cell_type": "markdown",
      "metadata": {
        "id": "Udqr8ECzDsJL"
      },
      "source": [
        "**Exercise 1 : To do** \n",
        "\n",
        "Make a sentence by using `name1` & `name2` variable. Be careful unnecessary space in string variables.\n",
        "- \"Mg Mg is younger than Ma Ma.\"\n",
        "- \"Ma Ma is Mg Mg's elder sister.\"\n",
        "- \"Mg Mg & Ma Ma go to school together.\""
      ]
    },
    {
      "cell_type": "code",
      "execution_count": null,
      "metadata": {
        "colab": {
          "base_uri": "https://localhost:8080/"
        },
        "id": "PDJAa8m5DsJN",
        "outputId": "be7a4eed-ccf1-4a09-825b-02879b80fd4c"
      },
      "outputs": [
        {
          "name": "stdout",
          "output_type": "stream",
          "text": [
            "Mg Mg is younger than Ma Ma.\n",
            "Ma Ma is Mg Mg's elder sister.\n",
            "Mg Mg & Ma Ma go to school together.\n"
          ]
        }
      ],
      "source": [
        "## exercise 1 : solution write here!\n",
        "one,two=name1.lstrip(),name2.rstrip()\n",
        "print(one+' is younger than '+two+'.')\n",
        "print(two+' is '+one+'\\'s elder sister.')\n",
        "print(one+' & '+two+' go to school together.')\n"
      ]
    },
    {
      "cell_type": "code",
      "execution_count": null,
      "metadata": {
        "id": "ZXGlhI-uDsJN"
      },
      "outputs": [],
      "source": [
        "sentence1 = \" I like chocolate ice cream better than vanilla ice cream.\""
      ]
    },
    {
      "cell_type": "markdown",
      "metadata": {
        "id": "qRc7N_EzDsJO"
      },
      "source": [
        "**Exercise 2 : To do** \n",
        "\n",
        "Extract specific word from `sentence1`, assign into variables. Hint : Use split & index & combine the string variables.\n",
        "- chocolate ice cream\n",
        "- vanilla ice cream"
      ]
    },
    {
      "cell_type": "code",
      "execution_count": null,
      "metadata": {
        "colab": {
          "base_uri": "https://localhost:8080/"
        },
        "id": "GdDsLNBgDsJO",
        "outputId": "84029b35-17dd-4eef-9c6e-26a14e35c45c"
      },
      "outputs": [
        {
          "name": "stdout",
          "output_type": "stream",
          "text": [
            "chocolate ice cream\n",
            "vanilla ice cream\n",
            "vanilla ice cream\n"
          ]
        }
      ],
      "source": [
        "## exercise 2 : solution write here!\n",
        "a=sentence1.split()\n",
        "b=a[9].strip('.')\n",
        "print(a[2],a[3],a[4])\n",
        "print(a[7],a[8],b)\n",
        "print(a[7],a[8],a[9].strip('.'))"
      ]
    },
    {
      "cell_type": "code",
      "execution_count": null,
      "metadata": {
        "colab": {
          "base_uri": "https://localhost:8080/"
        },
        "id": "ksByDjBqPNSr",
        "outputId": "fb57eadb-5fb4-40e8-bac2-9c3686b5395d"
      },
      "outputs": [
        {
          "data": {
            "text/plain": [
              "['apple', 'banana', 'cherry']"
            ]
          },
          "execution_count": 11,
          "metadata": {},
          "output_type": "execute_result"
        }
      ],
      "source": [
        "a='apple,banana,cherry'\n",
        "a.split(',')"
      ]
    },
    {
      "cell_type": "code",
      "execution_count": null,
      "metadata": {
        "id": "mGN7PUGiDsJO"
      },
      "outputs": [
        {
          "ename": "",
          "evalue": "",
          "output_type": "error",
          "traceback": [
            "\u001b[1;31mFailed to start the Kernel. \n",
            "Canceled. \n",
            "View Jupyter <a href='command:jupyter.viewOutput'>log</a> for further details."
          ]
        }
      ],
      "source": [
        "price_chocolate = 500\n",
        "price_vanilla = 600"
      ]
    },
    {
      "cell_type": "markdown",
      "metadata": {
        "id": "JNjjqTHyDsJP"
      },
      "source": [
        "**Exercise 3 : To do**\n",
        "\n",
        "By using above price_ variables and also the variables (that extracted from `sentence1`, make the below sentences. Hint : Use % Method , .format() and f-strings for each sentence.\n",
        "- The chocolate ice cream is 500 kyats.\n",
        "- The vanilla ice cream is 700 kyats now , not 600 kyats.\n",
        "- The total price for both is 1100 kyats."
      ]
    },
    {
      "cell_type": "code",
      "execution_count": null,
      "metadata": {
        "colab": {
          "base_uri": "https://localhost:8080/"
        },
        "id": "0etS2vtdDsJP",
        "outputId": "10d4c27c-fc15-4f8d-c4a3-109de081f7c6"
      },
      "outputs": [
        {
          "name": "stdout",
          "output_type": "stream",
          "text": [
            "The chocolate ice cream is 500 kyats.\n",
            "The vanila ice creami is 700 kyats now,not 600 kyats.\n",
            "The total price for both is 1100 kyats.\n",
            "The total price for both is 1100 kyats.\n"
          ]
        }
      ],
      "source": [
        "## exercise 3 : solution write here!\n",
        "print(\"The chocolate ice cream is %i kyats.\" % price_chocolate)\n",
        "print(\"The vanila ice creami is {} kyats now,not {} kyats.\" .format(price_vanilla+100,price_vanilla))\n",
        "a = price_chocolate + price_vanilla\n",
        "print(f\"The total price for both is {a} kyats.\" )\n",
        "print(f'The total price for both is {price_chocolate+price_vanilla} kyats.')"
      ]
    },
    {
      "cell_type": "code",
      "execution_count": null,
      "metadata": {
        "id": "t_MXUbFFDsJP"
      },
      "outputs": [],
      "source": [
        "## Ohhh sorry , because of the coup , all the prices go up.\n",
        "## Change the price for chocolate to 800 kyats and vanilla to 900 kyats.\n",
        "## Re-run the above print statements with new prices."
      ]
    },
    {
      "cell_type": "code",
      "execution_count": null,
      "metadata": {
        "colab": {
          "base_uri": "https://localhost:8080/"
        },
        "id": "aYDpp5MSXqg5",
        "outputId": "65fa35ac-85b7-482f-d91c-c993346529b6"
      },
      "outputs": [
        {
          "name": "stdout",
          "output_type": "stream",
          "text": [
            "The chocolate ice cream is 800 kyats.\n",
            "The vanilla ice cream is 900 kyats.\n",
            "The total price for boith is 1700 kyats.\n"
          ]
        }
      ],
      "source": [
        "a = price_chocolate + 300\n",
        "b = price_vanilla + 300\n",
        "c = a + b\n",
        "print(\"The chocolate ice cream is %i kyats.\" % a)\n",
        "print(\"The vanilla ice cream is {} kyats.\" .format(b))\n",
        "print(f\"The total price for boith is {c} kyats.\")\n"
      ]
    },
    {
      "cell_type": "code",
      "execution_count": null,
      "metadata": {
        "id": "z8qiO9MKDsJQ"
      },
      "outputs": [],
      "source": [
        "my_name = \" ko Paing      \""
      ]
    },
    {
      "cell_type": "markdown",
      "metadata": {
        "id": "zEc2GRWjDsJQ"
      },
      "source": [
        "**Exercise 4: To Do**\n",
        "\n",
        "By using string built-in methods , change the first letter of `my_name` to capital letter.\n",
        "Clean the space before and after the name."
      ]
    },
    {
      "cell_type": "code",
      "execution_count": null,
      "metadata": {
        "colab": {
          "base_uri": "https://localhost:8080/"
        },
        "id": "Vv6TAPxiDsJQ",
        "outputId": "e9852158-f782-4d35-9150-cdeb4ee0e354"
      },
      "outputs": [
        {
          "name": "stdout",
          "output_type": "stream",
          "text": [
            "Ko paing\n",
            "Ko paing\n"
          ]
        }
      ],
      "source": [
        "## exercise 4 : solution write here!\n",
        "h=my_name.strip()\n",
        "print(h.capitalize())\n",
        "print(my_name.strip().capitalize())"
      ]
    }
  ],
  "metadata": {
    "colab": {
      "provenance": []
    },
    "interpreter": {
      "hash": "43f9f978e86097f86422ad3a1a736eb79d02874e31223e758cffd1f02c507dc9"
    },
    "kernelspec": {
      "display_name": "Python 3.10.8 ('environment': venv)",
      "language": "python",
      "name": "python3"
    },
    "language_info": {
      "name": "python",
      "version": "3.10.8"
    },
    "orig_nbformat": 4
  },
  "nbformat": 4,
  "nbformat_minor": 0
}
